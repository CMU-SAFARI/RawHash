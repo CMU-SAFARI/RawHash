{
 "cells": [
  {
   "cell_type": "code",
   "execution_count": null,
   "metadata": {},
   "outputs": [],
   "source": [
    "# # create venv\n",
    "# python3 -m venv .venv\n",
    "# source .venv/bin/activate\n",
    "# pip install cffi ipykernel\n",
    "\n",
    "%load_ext autoreload\n",
    "%autoreload 2\n"
   ]
  },
  {
   "cell_type": "code",
   "execution_count": 1,
   "metadata": {},
   "outputs": [
    {
     "data": {
      "text/plain": [
       "True"
      ]
     },
     "execution_count": 1,
     "metadata": {},
     "output_type": "execute_result"
    }
   ],
   "source": [
    "\n",
    "from pathlib import Path\n",
    "import cppyy\n",
    "import os\n",
    "\n",
    "os.chdir(\"/home/mmordig/rawhash_project/rawhash2_new/build/extern\")\n",
    "\n",
    "header_file = Path(\"/home/mmordig/rawhash_project/rawhash2_new/src/rawhash_wrapper.hpp\")\n",
    "library_file = Path(\"/home/mmordig/rawhash_project/rawhash2_new/build/src/librawhash2_wrapper.so\")\n",
    "cppyy.include(str(header_file))\n",
    "cppyy.add_library_path(\"/home/mmordig/rawhash_project/rawhash2_new/build/extern/hdf5/lib\")\n",
    "cppyy.add_library_path(\"/home/mmordig/rawhash_project/rawhash2_new/build/src\")\n",
    "cppyy.load_library(\"librawhash2_wrapper\")\n",
    "\n",
    "# cppyy.add_library_path(str(library_file.parent))\n",
    "# cppyy.load_library(str(library_file.name))\n",
    "# cppyy.load_library(str(library_file))"
   ]
  },
  {
   "cell_type": "code",
   "execution_count": null,
   "metadata": {},
   "outputs": [
    {
     "ename": "",
     "evalue": "",
     "output_type": "error",
     "traceback": [
      "\u001b[1;31mThe Kernel crashed while executing code in the current cell or a previous cell. \n",
      "\u001b[1;31mPlease review the code in the cell(s) to identify a possible cause of the failure. \n",
      "\u001b[1;31mClick <a href='https://aka.ms/vscodeJupyterKernelCrash'>here</a> for more info. \n",
      "\u001b[1;31mView Jupyter <a href='command:jupyter.viewOutput'>log</a> for further details."
     ]
    }
   ],
   "source": [
    "# cppppy.\n",
    "# dir()\n",
    "cppyy.gbl.RawHashMapper(5, [\"hello\"])"
   ]
  },
  {
   "cell_type": "code",
   "execution_count": null,
   "metadata": {},
   "outputs": [],
   "source": []
  },
  {
   "cell_type": "code",
   "execution_count": null,
   "metadata": {},
   "outputs": [],
   "source": [
    "from pathlib import Path\n",
    "from cffi import FFI\n",
    "ffi = FFI()\n",
    "\n",
    "wrapper_path = Path(\"/home/mmordig/rawhash_project/rawhash2_new/src/rawhash_wrapper.hpp\")\n",
    "ffi.cdef(wrapper_path.read_text())\n",
    "\n",
    "# lib = ffi.dlopen()"
   ]
  },
  {
   "cell_type": "code",
   "execution_count": null,
   "metadata": {},
   "outputs": [],
   "source": [
    "\n",
    "from cffi import FFI\n",
    "ffi = FFI()\n",
    "ffi.cdef(\"\"\"\n",
    "    int printf(const char *format, ...);   // copy-pasted from the man page\n",
    "\"\"\")\n",
    "C = ffi.dlopen(None)                     # loads the entire C namespace\n",
    "arg = ffi.new(\"char[]\", b\"world\")        # equivalent to C code: char arg[] = \"world\";\n",
    "C.printf(b\"hi there, %s.\\n\", arg)"
   ]
  },
  {
   "cell_type": "code",
   "execution_count": null,
   "metadata": {},
   "outputs": [],
   "source": []
  },
  {
   "cell_type": "code",
   "execution_count": null,
   "metadata": {},
   "outputs": [],
   "source": [
    "# # rawhash commands\n",
    "# mkdir -p example_out\n",
    "# rawhash2 \\\n",
    "#     -x sensitive -t 8 \\\n",
    "#     -p /home/mmordig/rawhash_project/rawhash2_new/extern/kmer_models/legacy/legacy_r9.4_180mv_450bps_6mer/template_median68pA.model \\\n",
    "#     -d example_out/ref.ind \\\n",
    "#     /home/mmordig/rawhash_project/rawhash2_new/test/data/d2_ecoli_r94/ref.fa\n",
    "\n",
    "# rawhash2_wrapper_example \\\n",
    "#     -x sensitive -t 8 \\\n",
    "#     -p /home/mmordig/rawhash_project/rawhash2_new/extern/kmer_models/legacy/legacy_r9.4_180mv_450bps_6mer/template_median68pA.model \\\n",
    "#     example_out/ref.ind\n",
    "\n",
    "# export PATH=/home/mmordig/rawhash_project/rawhash2_new/build/bin:$PATH\n",
    "\n",
    "rawhash2_usinglib \\\n",
    "    -x sensitive -t 8 \\\n",
    "    -p /home/mmordig/rawhash_project/rawhash2_new/extern/kmer_models/legacy/legacy_r9.4_180mv_450bps_6mer/template_median68pA.model \\\n",
    "    -d example_out/ref.ind \\\n",
    "    /home/mmordig/rawhash_project/rawhash2_new/test/data/d2_ecoli_r94/ref.fa"
   ]
  },
  {
   "cell_type": "code",
   "execution_count": null,
   "metadata": {},
   "outputs": [],
   "source": []
  }
 ],
 "metadata": {
  "kernelspec": {
   "display_name": ".venv",
   "language": "python",
   "name": "python3"
  },
  "language_info": {
   "codemirror_mode": {
    "name": "ipython",
    "version": 3
   },
   "file_extension": ".py",
   "mimetype": "text/x-python",
   "name": "python",
   "nbconvert_exporter": "python",
   "pygments_lexer": "ipython3",
   "version": "3.10.12"
  }
 },
 "nbformat": 4,
 "nbformat_minor": 2
}
